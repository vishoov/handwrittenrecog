{
  "nbformat": 4,
  "nbformat_minor": 0,
  "metadata": {
    "colab": {
      "name": "final CNN complete, trained using given dataset.ipynb",
      "provenance": [],
      "collapsed_sections": [],
      "mount_file_id": "1ExwsAyYEDlfIHFmlOiX36t_dHPmPSGa1",
      "authorship_tag": "ABX9TyN8z/zm5V13HbGQ2xh1s2KN",
      "include_colab_link": true
    },
    "kernelspec": {
      "display_name": "Python 3",
      "name": "python3"
    },
    "language_info": {
      "name": "python"
    }
  },
  "cells": [
    {
      "cell_type": "markdown",
      "metadata": {
        "id": "view-in-github",
        "colab_type": "text"
      },
      "source": [
        "<a href=\"https://colab.research.google.com/github/vishoov/handwrittenrecog/blob/main/final_CNN_complete%2C_trained_using_given_dataset.ipynb\" target=\"_parent\"><img src=\"https://colab.research.google.com/assets/colab-badge.svg\" alt=\"Open In Colab\"/></a>"
      ]
    },
    {
      "cell_type": "code",
      "metadata": {
        "id": "RkMvEqKakp5u"
      },
      "source": [
        "from keras.datasets import mnist\n",
        "from keras.models import Sequential\n",
        "from keras.layers import Dense\n",
        "from keras.layers import Dropout\n",
        "from keras.layers import Flatten\n",
        "from keras.layers.convolutional import Conv2D\n",
        "from keras.layers.convolutional import MaxPooling2D\n",
        "from tensorflow.keras.optimizers import Adam\n",
        "from keras.utils import np_utils\n",
        "from PIL import Image\n",
        "import numpy as np\n",
        "import os\n",
        "import tensorflow as tf\n",
        "import matplotlib.pyplot as plt\n",
        "import cv2 as cv"
      ],
      "execution_count": null,
      "outputs": []
    },
    {
      "cell_type": "code",
      "metadata": {
        "colab": {
          "base_uri": "https://localhost:8080/"
        },
        "id": "FwD-vrqUOnCt",
        "outputId": "a28e5df6-a856-49a9-dc57-21ea30bb879d"
      },
      "source": [
        "from google.colab import drive\n",
        "drive.mount('/content/drive')"
      ],
      "execution_count": null,
      "outputs": [
        {
          "output_type": "stream",
          "name": "stdout",
          "text": [
            "Drive already mounted at /content/drive; to attempt to forcibly remount, call drive.mount(\"/content/drive\", force_remount=True).\n"
          ]
        }
      ]
    },
    {
      "cell_type": "code",
      "metadata": {
        "id": "1YVryOyMkrCP",
        "colab": {
          "base_uri": "https://localhost:8080/"
        },
        "outputId": "e7fb73a6-3bd3-41d9-ab98-c2e24c0e754a"
      },
      "source": [
        "(X_train, y_train), (X_test, y_test) = mnist.load_data()"
      ],
      "execution_count": null,
      "outputs": [
        {
          "output_type": "stream",
          "name": "stdout",
          "text": [
            "Downloading data from https://storage.googleapis.com/tensorflow/tf-keras-datasets/mnist.npz\n",
            "11493376/11490434 [==============================] - 0s 0us/step\n",
            "11501568/11490434 [==============================] - 0s 0us/step\n"
          ]
        }
      ]
    },
    {
      "cell_type": "code",
      "metadata": {
        "id": "W6Qxh75ok_uO"
      },
      "source": [
        "X_train = X_train.reshape(X_train.shape[0], X_train.shape[1], X_train.shape[2], 1).astype('float32')\n",
        "X_test = X_test.reshape(X_test.shape[0], X_test.shape[1], X_test.shape[2], 1).astype('float32')"
      ],
      "execution_count": null,
      "outputs": []
    },
    {
      "cell_type": "code",
      "metadata": {
        "id": "lZAaxtOwlJkl"
      },
      "source": [
        "def load_images_to_data(image_label, image_directory, features_data, label_data):\n",
        "    list_of_files = os.listdir(image_directory)\n",
        "    for file in list_of_files:\n",
        "        image_file_name = os.path.join(image_directory, file)\n",
        "        if \".png\" in image_file_name:\n",
        "            img = Image.open(image_file_name).convert(\"L\")\n",
        "            img = np.resize(img, (28,28,1))\n",
        "            im2arr = np.array(img)\n",
        "            im2arr = im2arr.reshape(1,28,28,1)\n",
        "            features_data = np.append(features_data, im2arr, axis=0)\n",
        "            label_data = np.append(label_data, [image_label], axis=0)\n",
        "    return features_data, label_data"
      ],
      "execution_count": null,
      "outputs": []
    },
    {
      "cell_type": "code",
      "metadata": {
        "id": "z70adGq8mJxj"
      },
      "source": [
        "X_train, y_train = load_images_to_data('1', '/content/drive/MyDrive/trainPart1/train', X_train, y_train)\n",
        "X_test, y_test = load_images_to_data('1', '/content/drive/MyDrive/trainPart1/train', X_test, y_test)"
      ],
      "execution_count": null,
      "outputs": []
    },
    {
      "cell_type": "code",
      "metadata": {
        "id": "2y_dIzpTscuu"
      },
      "source": [
        "X_train/=255\n",
        "X_test/=255"
      ],
      "execution_count": null,
      "outputs": []
    },
    {
      "cell_type": "code",
      "metadata": {
        "id": "j_-qEW9ltJBl"
      },
      "source": [
        "number_of_classes = 10\n",
        "y_train = np_utils.to_categorical(y_train, number_of_classes)\n",
        "y_test = np_utils.to_categorical(y_test, number_of_classes)"
      ],
      "execution_count": null,
      "outputs": []
    },
    {
      "cell_type": "code",
      "metadata": {
        "id": "LwowLhsLtMc7"
      },
      "source": [
        "model = Sequential()\n",
        "model.add(Conv2D(32, (5, 5), input_shape=(X_train.shape[1], X_train.shape[2], 1), activation='relu'))\n",
        "model.add(MaxPooling2D(pool_size=(2, 2)))\n",
        "model.add(Conv2D(32, (3, 3), activation='relu'))\n",
        "model.add(MaxPooling2D(pool_size=(2, 2)))\n",
        "model.add(Dropout(0.5))\n",
        "model.add(Flatten())\n",
        "model.add(Dense(128, activation='relu'))\n",
        "model.add(Dropout(0.5))\n",
        "model.add(Dense(units=10, activation='softmax'))"
      ],
      "execution_count": null,
      "outputs": []
    },
    {
      "cell_type": "code",
      "metadata": {
        "id": "mUuBPGo7tOQD"
      },
      "source": [
        "model.compile(loss='categorical_crossentropy', optimizer=Adam(), metrics=['accuracy'])"
      ],
      "execution_count": null,
      "outputs": []
    },
    {
      "cell_type": "code",
      "metadata": {
        "colab": {
          "base_uri": "https://localhost:8080/"
        },
        "id": "VxeCeYHGtQlT",
        "outputId": "1d4fd6b9-e3f1-438d-b639-30cdd2817bed"
      },
      "source": [
        "model.fit(X_train, y_train, validation_data=(X_test, y_test), epochs=7, batch_size=10, validation_split=0.1, verbose=1)"
      ],
      "execution_count": null,
      "outputs": [
        {
          "output_type": "stream",
          "name": "stdout",
          "text": [
            "Epoch 1/7\n",
            "5400/5400 [==============================] - 63s 12ms/step - loss: 0.2556 - accuracy: 0.9205 - val_loss: 0.0451 - val_accuracy: 0.9860\n",
            "Epoch 2/7\n",
            "5400/5400 [==============================] - 63s 12ms/step - loss: 0.1142 - accuracy: 0.9657 - val_loss: 0.0356 - val_accuracy: 0.9890\n",
            "Epoch 3/7\n",
            "5400/5400 [==============================] - 62s 11ms/step - loss: 0.0959 - accuracy: 0.9714 - val_loss: 0.0429 - val_accuracy: 0.9870\n",
            "Epoch 4/7\n",
            "5400/5400 [==============================] - 62s 12ms/step - loss: 0.0867 - accuracy: 0.9735 - val_loss: 0.0297 - val_accuracy: 0.9918\n",
            "Epoch 5/7\n",
            "5400/5400 [==============================] - 60s 11ms/step - loss: 0.0813 - accuracy: 0.9760 - val_loss: 0.0326 - val_accuracy: 0.9908\n",
            "Epoch 6/7\n",
            "5400/5400 [==============================] - 61s 11ms/step - loss: 0.0767 - accuracy: 0.9774 - val_loss: 0.0316 - val_accuracy: 0.9903\n",
            "Epoch 7/7\n",
            "5400/5400 [==============================] - 61s 11ms/step - loss: 0.0764 - accuracy: 0.9774 - val_loss: 0.0362 - val_accuracy: 0.9893\n"
          ]
        },
        {
          "output_type": "execute_result",
          "data": {
            "text/plain": [
              "<keras.callbacks.History at 0x7febd85f6590>"
            ]
          },
          "metadata": {},
          "execution_count": 10
        }
      ]
    },
    {
      "cell_type": "code",
      "metadata": {
        "id": "OCXy7SSetSnT"
      },
      "source": [
        "model.save('models/mnistCNN.h5')"
      ],
      "execution_count": null,
      "outputs": []
    },
    {
      "cell_type": "code",
      "metadata": {
        "id": "f3wzuiu7Xg8v",
        "colab": {
          "base_uri": "https://localhost:8080/"
        },
        "outputId": "49473bbc-206c-4754-dd05-3bc69ea94d92"
      },
      "source": [
        "model.summary()"
      ],
      "execution_count": null,
      "outputs": [
        {
          "output_type": "stream",
          "name": "stdout",
          "text": [
            "Model: \"sequential\"\n",
            "_________________________________________________________________\n",
            "Layer (type)                 Output Shape              Param #   \n",
            "=================================================================\n",
            "conv2d (Conv2D)              (None, 24, 24, 32)        832       \n",
            "_________________________________________________________________\n",
            "max_pooling2d (MaxPooling2D) (None, 12, 12, 32)        0         \n",
            "_________________________________________________________________\n",
            "conv2d_1 (Conv2D)            (None, 10, 10, 32)        9248      \n",
            "_________________________________________________________________\n",
            "max_pooling2d_1 (MaxPooling2 (None, 5, 5, 32)          0         \n",
            "_________________________________________________________________\n",
            "dropout (Dropout)            (None, 5, 5, 32)          0         \n",
            "_________________________________________________________________\n",
            "flatten (Flatten)            (None, 800)               0         \n",
            "_________________________________________________________________\n",
            "dense (Dense)                (None, 128)               102528    \n",
            "_________________________________________________________________\n",
            "dropout_1 (Dropout)          (None, 128)               0         \n",
            "_________________________________________________________________\n",
            "dense_1 (Dense)              (None, 10)                1290      \n",
            "=================================================================\n",
            "Total params: 113,898\n",
            "Trainable params: 113,898\n",
            "Non-trainable params: 0\n",
            "_________________________________________________________________\n"
          ]
        }
      ]
    },
    {
      "cell_type": "code",
      "metadata": {
        "colab": {
          "base_uri": "https://localhost:8080/"
        },
        "id": "ejFmLRh9uVvx",
        "outputId": "da46c67d-e636-4bd3-c715-c5ffd975c2f2"
      },
      "source": [
        "metrics = model.evaluate(X_test, y_test, verbose=0)\n",
        "print(\"Metrics(Test loss & Test Accuracy): \")\n",
        "print(metrics)"
      ],
      "execution_count": null,
      "outputs": [
        {
          "output_type": "stream",
          "name": "stdout",
          "text": [
            "Metrics(Test loss & Test Accuracy): \n",
            "[0.02653471753001213, 0.9911999702453613]\n"
          ]
        }
      ]
    },
    {
      "cell_type": "code",
      "metadata": {
        "colab": {
          "base_uri": "https://localhost:8080/",
          "height": 282
        },
        "id": "WAIMAHAgu04f",
        "outputId": "3b027742-4899-44df-e009-7a27f7dd378a"
      },
      "source": [
        "from PIL import Image\n",
        "my_image = \"img001-002.png\" \n",
        "fname = \"/content/drive/MyDrive/trainPart1/train/Sample001/\" + my_image\n",
        "image = np.array(Image.open(fname).resize((28, 28)))\n",
        "plt.imshow(image)\n",
        "image = image / 255\n",
        "image = image[:,:,0]\n",
        "image = image.reshape((1,28,28,1))\n",
        "y_pred = model.predict(image)\n",
        "score= tf.nn.softmax(y_pred)\n",
        "print(np.argmax(score))"
      ],
      "execution_count": null,
      "outputs": [
        {
          "output_type": "stream",
          "name": "stdout",
          "text": [
            "0\n"
          ]
        },
        {
          "output_type": "display_data",
          "data": {
            "image/png": "[encoded data removed]",
            "text/plain": [
              "<Figure size 432x288 with 1 Axes>"
            ]
          },
          "metadata": {
            "needs_background": "light"
          }
        }
      ]
    },
    {
      "cell_type": "code",
      "metadata": {
        "id": "Gg7CsxDRv7YP"
      },
      "source": [
        ""
      ],
      "execution_count": null,
      "outputs": []
    },
    {
      "cell_type": "code",
      "metadata": {
        "id": "47pa-uK7vjvv"
      },
      "source": [
        ""
      ],
      "execution_count": null,
      "outputs": []
    },
    {
      "cell_type": "code",
      "metadata": {
        "id": "7TcoBpszvmdO"
      },
      "source": [
        ""
      ],
      "execution_count": null,
      "outputs": []
    },
    {
      "cell_type": "code",
      "metadata": {
        "id": "qXxH_xBqvw-P"
      },
      "source": [
        ""
      ],
      "execution_count": null,
      "outputs": []
    },
    {
      "cell_type": "code",
      "metadata": {
        "id": "irT078Pzw2y7"
      },
      "source": [
        ""
      ],
      "execution_count": null,
      "outputs": []
    }
  ]
}